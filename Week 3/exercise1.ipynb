{
 "cells": [
  {
   "cell_type": "code",
   "execution_count": null,
   "metadata": {},
   "outputs": [],
   "source": [
    "# Creating a stack\n",
    "def create_stack():\n",
    "    stack = []\n",
    "    return stack\n",
    "\n",
    "def print_stack(stack):\n",
    "\n",
    "    if (check_empty(stack)):\n",
    "            return \"stack is empty\"\n",
    "\n",
    "    # Create a copy of the stack and reverse the elements\n",
    "    tempStack = stack.copy()\n",
    "    tempStack.reverse()\n",
    "\n",
    "    # Print all elements using a loop\n",
    "    for i in tempStack:\n",
    "        print(i)\n",
    "\n",
    "    # Delete the copy to free up memory\n",
    "    del tempStack\n",
    "\n",
    "# Creating an empty stack\n",
    "def check_empty(stack):\n",
    "    return len(stack) == 0\n",
    "\n",
    "\n",
    "# Adding items into the stack\n",
    "def push(stack, item):\n",
    "    stack.append(item)\n",
    "    print(\"pushed item: \" + item)\n",
    "\n",
    "\n",
    "# Removing an element from the stack\n",
    "def pop(stack):\n",
    "    if (check_empty(stack)):\n",
    "        return \"stack is empty\"\n",
    "\n",
    "    return stack.pop()\n",
    "\n",
    "def peek(stack):\n",
    "\n",
    "    # Use negative indexing to display the last element of the list\n",
    "    print(stack[-1])\n"
   ]
  },
  {
   "cell_type": "markdown",
   "metadata": {},
   "source": [
    "1. Create a burger stack.\n",
    "The output of the stack should be in this order:\n",
    "\n",
    "Bun\n",
    "\n",
    "Tomato\n",
    "\n",
    "Lettuce\n",
    "\n",
    "Cheese\n",
    "\n",
    "Patty\n",
    "\n",
    "Bun"
   ]
  },
  {
   "cell_type": "code",
   "execution_count": 2,
   "metadata": {},
   "outputs": [
    {
     "name": "stdout",
     "output_type": "stream",
     "text": [
      "Bun\n",
      "Tomato\n",
      "Lettuce\n",
      "Chesse\n",
      "Patty\n",
      "Bun\n"
     ]
    }
   ],
   "source": [
    "burger_stack = [\"Bun\", \"Tomato\", \"Lettuce\", \"Chesse\", \"Patty\", \"Bun\"]\n",
    "for i in burger_stack:\n",
    "    print(i)"
   ]
  },
  {
   "cell_type": "markdown",
   "metadata": {},
   "source": [
    "2. Reverse a string using a stack\n",
    "Given two stacks:\n",
    "\n",
    "name_stack = [\"B\",\"R\",\"A\",\"N\",\"D\",\"O\",\"A\",\"L\",\"L\",\"E\",\"N\"]\n",
    "\n",
    "reversed_stack = []\n",
    "\n",
    "Use your full name and pop each letter from the name_stack and push each element into the reversed_stack\n",
    "\n",
    "Expected output:\n",
    "\n",
    "print(reversed_stack)\n",
    "\n",
    "['N', 'E', 'L', 'L', 'A', 'O', 'D', 'N', 'A', 'R', 'B']"
   ]
  },
  {
   "cell_type": "code",
   "execution_count": 3,
   "metadata": {},
   "outputs": [
    {
     "name": "stdout",
     "output_type": "stream",
     "text": [
      "['N', 'E', 'L', 'L', 'A', 'O', 'D', 'N', 'A', 'R', 'B']\n"
     ]
    }
   ],
   "source": [
    "name_stack = [\"B\",\"R\",\"A\",\"N\",\"D\",\"O\",\"A\",\"L\",\"L\",\"E\",\"N\"]\n",
    "reversed_stack = []\n",
    "    \n",
    "reversed_stack = name_stack.copy()\n",
    "reversed_stack.reverse()\n",
    "print(reversed_stack)\n",
    "del reversed_stack"
   ]
  },
  {
   "cell_type": "markdown",
   "metadata": {},
   "source": [
    "3. Remove elements using a stack\n",
    "Given this stack:\n",
    "\n",
    "numbers = [1,2,3,4,5,6,7,8,9,10]\n",
    "\n",
    "Using the pop() function, remove elements in the stack if they are an even number\n",
    "\n",
    "Expected output:\n",
    "\n",
    "print(numbers)\n",
    "\n",
    "[1,3,5,7,9]"
   ]
  },
  {
   "cell_type": "code",
   "execution_count": 4,
   "metadata": {},
   "outputs": [
    {
     "name": "stdout",
     "output_type": "stream",
     "text": [
      "[1, 3, 5, 7, 9] this is pop\n",
      "[1, 3, 5, 7, 9] this is append\n"
     ]
    }
   ],
   "source": [
    "numbers = [1,2,3,4,5,6,7,8,9,10]\n",
    "#this is pop\n",
    "index = len(numbers) - 1\n",
    "while index >= 0:\n",
    "    if numbers[index] % 2 == 0:\n",
    "        numbers.pop(index)\n",
    "    index -=1\n",
    "print(numbers, \"this is pop\")\n",
    "\n",
    "\n",
    "\n",
    "new_numbers = []\n",
    "for i in numbers:\n",
    "    if i % 2 != 0:\n",
    "        new_numbers.append(i)\n",
    "numbers = new_numbers\n",
    "print(numbers, \"this is append\")\n"
   ]
  },
  {
   "cell_type": "markdown",
   "metadata": {},
   "source": [
    "4. Inserting elements into a stack\n",
    "Given two stacks:\n",
    "\n",
    "my_stack = [\"B\",\"R\",\"A\",\"N\",\"D\",\"O\",\"A\",\"L\",\"L\",\"E\",\"N\"]\n",
    "\n",
    "empty_stack = []\n",
    "\n",
    "Use pop() to get each element from my_stack and use push() to insert the element to empty_stack only if:\n",
    "\n",
    "The element is a vowel\n",
    "The element does not exist in empty_stack\n",
    "Expected output:\n",
    "\n",
    "print_stack(empty_stack)\n",
    "\n",
    "['A', 'E', 'O']"
   ]
  },
  {
   "cell_type": "code",
   "execution_count": 5,
   "metadata": {},
   "outputs": [
    {
     "name": "stdout",
     "output_type": "stream",
     "text": [
      "['O', 'A', 'E']\n"
     ]
    }
   ],
   "source": [
    "def print_stack(stack):\n",
    "    print(stack)\n",
    "\n",
    "my_stack = [\"B\", \"R\", \"A\", \"N\", \"D\", \"O\", \"A\", \"L\", \"L\", \"E\", \"N\"]\n",
    "empty_stack = []\n",
    "\n",
    "vowels = \"AEIOUaeiou\"  # List of vowels\n",
    "\n",
    "while my_stack:\n",
    "    element = my_stack.pop()\n",
    "    if element in vowels and element not in empty_stack:\n",
    "        empty_stack.append(element)\n",
    "\n",
    "empty_stack.reverse()  # Reverse the stack to maintain original order\n",
    "print_stack(empty_stack)"
   ]
  },
  {
   "cell_type": "markdown",
   "metadata": {},
   "source": [
    "5. Sort elements in a stack\n",
    "Given two stacks:\n",
    "\n",
    "number_stack = [3,1,2]\n",
    "\n",
    "sorted_stack = []\n",
    "\n",
    "Create a sort() function to pop each element from the number_stack and push each element into the sorted_stack. The elements in sorted_stack must be in ascending order.\n",
    "\n",
    "Hint:\n",
    "\n",
    "iteration\tnumber_stack\tsorted_stack\n",
    "1\t[3, 1, 2]\t[]\n",
    "2\t[3, 1]\t[2]\n",
    "3\t[3, 2]\t[1]\n",
    "4\t[3]\t[1, 2]\n",
    "5\t[]\t[1, 2, 3]\n",
    "Expected output:\n",
    "\n",
    "print(sorted_stack)\n",
    "\n",
    "[1, 2, 3]"
   ]
  },
  {
   "cell_type": "code",
   "execution_count": 1,
   "metadata": {},
   "outputs": [
    {
     "name": "stdout",
     "output_type": "stream",
     "text": [
      "[1, 2, 3]\n"
     ]
    }
   ],
   "source": [
    "def sorted_stack1():\n",
    "    number_stack1 = [3,1,2]\n",
    "    sorted_stack1 = []\n",
    "    temp_stack1 = []\n",
    "\n",
    "    while len(number_stack1) > 0:\n",
    "        num1 = number_stack1.pop()\n",
    "        if len(sorted_stack1) == 0 or num1 >= sorted_stack1[-1]:\n",
    "            sorted_stack1.append(num1)\n",
    "        else:\n",
    "            while len(sorted_stack1)>0 and num1 < sorted_stack1[-1]:\n",
    "                temp_stack1.append(sorted_stack1.pop())\n",
    "                sorted_stack1.append(num1)\n",
    "            while len(temp_stack1) > 0:\n",
    "                sorted_stack1.append(temp_stack1.pop())\n",
    "    return sorted_stack1\n",
    "sorted_result = sorted_stack1()\n",
    "print(sorted_result)"
   ]
  }
 ],
 "metadata": {
  "kernelspec": {
   "display_name": "Python 3",
   "language": "python",
   "name": "python3"
  },
  "language_info": {
   "codemirror_mode": {
    "name": "ipython",
    "version": 3
   },
   "file_extension": ".py",
   "mimetype": "text/x-python",
   "name": "python",
   "nbconvert_exporter": "python",
   "pygments_lexer": "ipython3",
   "version": "3.10.0"
  },
  "orig_nbformat": 4
 },
 "nbformat": 4,
 "nbformat_minor": 2
}

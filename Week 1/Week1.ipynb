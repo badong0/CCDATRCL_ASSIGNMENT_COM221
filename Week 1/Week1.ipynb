{
 "cells": [
  {
   "cell_type": "markdown",
   "metadata": {},
   "source": [
    "WEEK 1\n",
    "Linked Lists\n",
    "Singly, Doubly and Circular"
   ]
  },
  {
   "cell_type": "code",
   "execution_count": 10,
   "metadata": {},
   "outputs": [],
   "source": [
    "class Node:\n",
    "    def __init__(self, data):\n",
    "        self.data = data\n",
    "        self.next = None\n",
    "class SinglyLinkedList:\n",
    "    def __init__(self):\n",
    "        self.head = None\n",
    "    \n",
    "    #insert at the beginning\n",
    "    def insertAtBeginning(self, new_data):\n",
    "        new_node = Node(new_data)\n",
    "        new_node.next = self.head\n",
    "        self.head = new_node\n",
    "    \n",
    "    #inserting afer the node\n",
    "    def insertAfter(self, prev_node, new_data):\n",
    "        if prev_node is None:\n",
    "            print(\"The given previous node mus in LinkedList\")\n",
    "            return\n",
    "        new_node = Node(new_data)\n",
    "        new_node.next = prev_node.next\n",
    "        prev_node.next = new_node\n",
    "    #inserting at the end\n",
    "    def insertAtEnd(self, new_data):\n",
    "        new_node = Node(new_data)\n",
    "        if self.head is None:\n",
    "            self.head = new_node\n",
    "            return\n",
    "        last = self.head\n",
    "        while (last.next):\n",
    "            last = last.next\n",
    "        last.next = new_node\n",
    "    #deleting a node\n",
    "    def deleteNode(self, position):\n",
    "        if self.head is None:\n",
    "            return\n",
    "        temp = self.head\n",
    "        if position == 0:\n",
    "            self.head = temp.next\n",
    "            temp = None\n",
    "            return\n",
    "        \n",
    "        #find the key to be deleted\n",
    "        for i in range(position - 1):\n",
    "            temp = temp.next\n",
    "            if temp is None:\n",
    "                break\n",
    "        #if key is not present\n",
    "        if temp is None:\n",
    "            return\n",
    "        if temp.next is None:\n",
    "            return\n",
    "        next = temp.next.next\n",
    "        temp.next = None\n",
    "        temp.next = next\n",
    "    \n",
    "    #serching a element\n",
    "    def search(self, key):\n",
    "        current = self.head\n",
    "        while current is not None:\n",
    "            if current.data == key:\n",
    "                return True\n",
    "            current = current.next\n",
    "        return False\n",
    "     # Sort the linked list\n",
    "    def sortLinkedList(self, head):\n",
    "        current = head\n",
    "        index = Node(None)\n",
    "\n",
    "        if head is None:\n",
    "            return\n",
    "        else:\n",
    "            while current is not None:\n",
    "                # index points to the node next to current\n",
    "                index = current.next\n",
    "\n",
    "                while index is not None:\n",
    "                    if current.data > index.data:\n",
    "                        current.data, index.data = index.data, current.data\n",
    "\n",
    "                    index = index.next\n",
    "                current = current.next\n",
    "\n",
    "    # Print the linked list\n",
    "    def traverse(self):\n",
    "        temp = self.head\n",
    "        while (temp):\n",
    "            print(str(temp.data) + \" -> \", end=\"\")\n",
    "            temp = temp.next\n"
   ]
  },
  {
   "cell_type": "code",
   "execution_count": 18,
   "metadata": {},
   "outputs": [
    {
     "name": "stdout",
     "output_type": "stream",
     "text": [
      "6 -> 100 -> 1 -> 3 -> 8 -> "
     ]
    }
   ],
   "source": [
    "llist = SinglyLinkedList()\n",
    "\n",
    "llist.traverse()\n",
    "\n",
    "llist.insertAtBeginning(3)\n",
    "llist.insertAtBeginning(2)\n",
    "llist.insertAtBeginning(1)\n",
    "llist.insertAtBeginning(6)\n",
    "llist.insertAtEnd(8)\n",
    "llist.insertAfter(llist.head, 100)\n",
    "llist.deleteNode(3)\n",
    "llist.traverse()"
   ]
  },
  {
   "cell_type": "code",
   "execution_count": 21,
   "metadata": {},
   "outputs": [
    {
     "name": "stdout",
     "output_type": "stream",
     "text": [
      "9 is not found\n"
     ]
    }
   ],
   "source": [
    "item_to_find = 9\n",
    "if llist.search(item_to_find):\n",
    "    print(str(item_to_find) + \" is found\")\n",
    "else:\n",
    "    print(str(item_to_find) + \" is not found\")"
   ]
  },
  {
   "cell_type": "code",
   "execution_count": 22,
   "metadata": {},
   "outputs": [
    {
     "name": "stdout",
     "output_type": "stream",
     "text": [
      "Sorted List: \n",
      "1 -> 3 -> 6 -> 8 -> 100 -> "
     ]
    }
   ],
   "source": [
    "llist.sortLinkedList(llist.head)\n",
    "print(\"Sorted List: \")\n",
    "llist.traverse()"
   ]
  },
  {
   "cell_type": "markdown",
   "metadata": {},
   "source": [
    "Doubly Linkedlist"
   ]
  },
  {
   "cell_type": "code",
   "execution_count": null,
   "metadata": {},
   "outputs": [],
   "source": []
  }
 ],
 "metadata": {
  "kernelspec": {
   "display_name": "Python 3",
   "language": "python",
   "name": "python3"
  },
  "language_info": {
   "codemirror_mode": {
    "name": "ipython",
    "version": 3
   },
   "file_extension": ".py",
   "mimetype": "text/x-python",
   "name": "python",
   "nbconvert_exporter": "python",
   "pygments_lexer": "ipython3",
   "version": "3.10.0"
  },
  "orig_nbformat": 4
 },
 "nbformat": 4,
 "nbformat_minor": 2
}

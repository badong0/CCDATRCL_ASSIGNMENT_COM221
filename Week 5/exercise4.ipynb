# Exercise 4
#### Pre-defined sorting algorithms
def mergeSort(array):
    if len(array) > 1:

        #  r is the point where the array is divided into two subarrays
        r = len(array)//2
        L = array[:r]
        M = array[r:]

        # Sort the two halves
        mergeSort(L)
        mergeSort(M)

        i = j = k = 0

        # Until we reach either end of either L or M, pick larger among
        # elements L and M and place them in the correct position at A[p..r]
        while i < len(L) and j < len(M):
            if L[i] < M[j]:
                array[k] = L[i]
                i += 1
            else:
                array[k] = M[j]
                j += 1
            k += 1

        # When we run out of elements in either L or M,
        # pick up the remaining elements and put in A[p..r]
        while i < len(L):
            array[k] = L[i]
            i += 1
            k += 1

        while j < len(M):
            array[k] = M[j]
            j += 1
            k += 1
            
# Print the array
def printList(array):
    for i in range(len(array)):
        print(array[i], end=" ")
    print()
def countingSort(array):
    size = len(array)
    output = [0] * size

    # Initialize count array
    count = [0] * 10

    # Store the count of each elements in count array
    for i in range(0, size):
        count[array[i]] += 1

    # Store the cummulative count
    for i in range(1, 10):
        count[i] += count[i - 1]

    # Find the index of each element of the original array in count array
    # place the elements in output array
    i = size - 1
    while i >= 0:
        output[count[array[i]] - 1] = array[i]
        count[array[i]] -= 1
        i -= 1

    # Copy the sorted elements into original array
    for i in range(0, size):
        array[i] = output[i]
def insertionSort(array):

    for step in range(1, len(array)):
        key = array[step]
        j = step - 1
        
        # Compare key with each element on the left of it until an element smaller than it is found
        # For descending order, change key<array[j] to key>array[j].        
        while j >= 0 and key < array[j]:
            array[j + 1] = array[j]
            j = j - 1
        
        # Place key at after the element just smaller than it.
        array[j + 1] = key
# Bubble sort in Python
def bubbleSort(array):

  # loop to access each array element
  for i in range(len(array)):

    # loop to compare array elements
    for j in range(0, len(array) - i - 1):

      # compare two adjacent elements
      # change > to < to sort in descending order
      if array[j] > array[j + 1]:

        # swapping elements if elements
        # are not in the intended order
        temp = array[j]
        array[j] = array[j+1]
        array[j+1] = temp
#### 1. Sort your **student number** in **ascending order**

Example:

**Input: 2022123456**

**Output: 0122223456**
# put your answer here
student_number = [2,0,2,2,1,0,1,0,1,6]
bubbleSort(student_number)
print("bubble sort array: ", student_number)



#### 2. Sort the **dates** in **ascending order**.

dates = ["12-25-2023", birthday, "01-01-2023"]

Enter your birthday in the birthday variable.
# put your answer here

# Your birthday should be in mm-dd-yyyy
birthday = "07-06-2003"

dates = ["12-25-2023",birthday, "01-01-2023"]

new_dates = []
for i in dates:
    new_dates.append(i.replace('-', ''))

sorted_dates = [item for item in new_dates if item != '']
new_dates.sort()

formatted_dates = ' '.join(['-'.join([sorted_date[:2], sorted_date[2:4], sorted_date[4:]]) for sorted_date in sorted_dates])

print(formatted_dates)

#### 3. Count the **total number of swaps** to sort the list below using **Bubble Sort**

|3|2|5|1|4|
|---|----|---|---|---|
# put your answer here

# Bubble sort in Python
def bubbleSortWithSwaps(array):
  swaps_count = 0
  # loop to access each array element
  for i in range(len(array)):

    # loop to compare array elements
    for j in range(0, len(array) - i - 1):

      # compare two adjacent elements
      # change > to < to sort in descending order
      if array[j] > array[j + 1]:

        # swapping elements if elements
        # are not in the intended order
        temp = array[j]
        array[j] = array[j+1]
        array[j+1] = temp
        swaps_count+=1
  return swaps_count

swaps_number = [3,2,5,1,4]

print("original swaps: ",swaps_number)
totalswaps = bubbleSortWithSwaps(swaps_number)
print("Total swaps: ", totalswaps)
print('sorted array: ',swaps_number)
 
#### 4. Count the **total number of steps** to sort the list below using **Insertion Sort**


|6|2|5|7|4|1|8|9|3|
|---|---|---|---|---|---|---|---|---|
# put your answer here
def insertionSortWithSteps(array):
    steps_insertions = 0
    for step in range(1, len(array)):
        key = array[step]
        j = step - 1
        
        # Compare key with each element on the left of it until an element smaller than it is found
        # For descending order, change key<array[j] to key>array[j].        
        while j >= 0 and key < array[j]:
            array[j + 1] = array[j]
            j = j - 1
            steps_insertions += 1
        
        # Place key at after the element just smaller than it.
        array[j + 1] = key
    return steps_insertions
insertionStepsNumbers = [6,2,5,7,4,1,8,9,3]
print('Original List: ', insertionStepsNumbers)
insertionTotalSteps = insertionSortWithSteps(insertionStepsNumbers)
print("Total swaps: ", insertionTotalSteps)
print('sorted array: ',insertionStepsNumbers)
 
#### 5. Given the list below:


|77|55|24|63|22|5|47|18|
|---|---|---|---|---|---|---|---|

Using **merge sort** and **counting sort**

Determine which sorting algorithm is faster by counting the total number of steps for each algorithm

def mergeSortWithSteps(array):
    merge_sort_num_steps = 0
    if len(array) > 1:

        #  r is the point where the array is divided into two subarrays
        r = len(array)//2
        L = array[:r]
        M = array[r:]

        # Sort the two halves
        mergeSort(L)
        mergeSort(M)

        i = j = k = 0

        # Until we reach either end of either L or M, pick larger among
        # elements L and M and place them in the correct position at A[p..r]
        while i < len(L) and j < len(M):
            if L[i] < M[j]:
                array[k] = L[i]
                i += 1
            else:
                array[k] = M[j]
                j += 1
            k += 1
            merge_sort_num_steps =+ 1

        # When we run out of elements in either L or M,
        # pick up the remaining elements and put in A[p..r]
        while i < len(L):
            array[k] = L[i]
            i += 1
            k += 1
            merge_sort_num_steps =+ 1

        while j < len(M):
            array[k] = M[j]
            j += 1
            k += 1
            merge_sort_num_steps += 1
    return merge_sort_num_steps
            
# Print the array
def printList(array):
    for i in range(len(array)):
        print(array[i], end=" ")
    print()


def countingSortWithSteps(array):
    counting_sort_num_steps = 0
    size = len(array)
    output = [0] * size

    # Initialize count array
    count = [0] * 10

    # Store the count of each elements in count array
    for i in range(0, size):
        count[array[i]] += 1
        counting_sort_num_steps =+ 1

    # Store the cummulative count
    for i in range(1, 10):
        count[i] += count[i - 1]
        counting_sort_num_steps =+ 1

    # Find the index of each element of the original array in count array
    # place the elements in output array
    i = size - 1
    while i >= 0:
        output[count[array[i]] - 1] = array[i]
        count[array[i]] -= 1
        i -= 1
        counting_sort_num_steps =+ 1

    # Copy the sorted elements into original array
    for i in range(0, size):
        array[i] = output[i]
        counting_sort_num_steps =+ 1
    return counting_sort_num_steps

merge_sort_num_steps = 0
counting_sort_num_steps = 0

mergeVScountList = [3,2,5,1,4]
merge1 = mergeSortWithSteps(mergeVScountList)
print("Total Steps of Merge Sort: ",merge1 )

count1 = countingSortWithSteps(mergeVScountList)
print("Total Steps of Count Sort: ",count1 )

if merge_sort_num_steps < counting_sort_num_steps:
    print("Merge sort is faster")
else:
    print("counting sort is faster")
    

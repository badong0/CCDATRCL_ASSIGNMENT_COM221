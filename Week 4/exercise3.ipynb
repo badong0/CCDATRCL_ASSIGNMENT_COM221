{
  "cells": [
    {
      "cell_type": "markdown",
      "metadata": {
        "colab_type": "text",
        "id": "view-in-github"
      },
      "source": [
        "<a href=\"https://colab.research.google.com/github/robitussin/CCDATRCL_EXERCISES/blob/main/exercise3.ipynb\" target=\"_parent\"><img src=\"https://colab.research.google.com/assets/colab-badge.svg\" alt=\"Open In Colab\"/></a>"
      ]
    },
    {
      "cell_type": "markdown",
      "metadata": {
        "id": "lAjYLLwOH311"
      },
      "source": [
        "# Exercise 3"
      ]
    },
    {
      "cell_type": "markdown",
      "metadata": {
        "id": "tXX_NU2iH313"
      },
      "source": [
        "#### Pre-defined classes"
      ]
    },
    {
      "cell_type": "markdown",
      "metadata": {
        "id": "ltYCu24VH314"
      },
      "source": [
        "Pre-defined Queue class"
      ]
    },
    {
      "cell_type": "code",
      "execution_count": 1,
      "metadata": {
        "id": "LLRrXaq0H315"
      },
      "outputs": [],
      "source": [
        "class Queue:\n",
        "    def __init__(self):\n",
        "        self.queue = []\n",
        "\n",
        "    # Add an element\n",
        "    def enqueue(self, item):\n",
        "        self.queue.append(item)\n",
        "\n",
        "    # Remove an element\n",
        "    def dequeue(self):\n",
        "        if len(self.queue) < 1:\n",
        "            return None\n",
        "        return self.queue.pop(0)\n",
        "\n",
        "    # Display  the queue\n",
        "    def display(self):\n",
        "        print(self.queue)\n",
        "\n",
        "    def size(self):\n",
        "        return len(self.queue)\n",
        "\n",
        "    def peek(self):\n",
        "        return self.queue[0]\n"
      ]
    },
    {
      "cell_type": "markdown",
      "metadata": {
        "id": "jnuMULQaH316"
      },
      "source": [
        "Pre-defined Deque class"
      ]
    },
    {
      "cell_type": "code",
      "execution_count": 2,
      "metadata": {
        "id": "wBc0RG1fH316"
      },
      "outputs": [],
      "source": [
        "class Deque:\n",
        "    def __init__(self):\n",
        "        self.items = []\n",
        "\n",
        "    def isEmpty(self):\n",
        "        return self.items == []\n",
        "\n",
        "    def addRear(self, item):\n",
        "        self.items.append(item)\n",
        "\n",
        "    def addFront(self, item):\n",
        "        self.items.insert(0, item)\n",
        "\n",
        "    def removeFront(self):\n",
        "        return self.items.pop(0)\n",
        "\n",
        "    def removeRear(self):\n",
        "        return self.items.pop()\n",
        "\n",
        "    def size(self):\n",
        "        return len(self.items)"
      ]
    },
    {
      "cell_type": "markdown",
      "metadata": {
        "id": "m8lu62aFH317"
      },
      "source": [
        "Pre-defined Circular Queue class"
      ]
    },
    {
      "cell_type": "code",
      "execution_count": 3,
      "metadata": {
        "id": "4Mix-CCuH317"
      },
      "outputs": [],
      "source": [
        "class CircularQueue():\n",
        "\n",
        "    def __init__(self, k):\n",
        "        self.k = k\n",
        "        self.queue = [None] * k\n",
        "        self.head = self.tail = -1\n",
        "\n",
        "    # Insert an element into the circular queue\n",
        "    def enqueue(self, data):\n",
        "\n",
        "        if ((self.tail + 1) % self.k == self.head):\n",
        "            print(\"The circular queue is full\\n\")\n",
        "\n",
        "        elif (self.head == -1):\n",
        "            self.head = 0\n",
        "            self.tail = 0\n",
        "            self.queue[self.tail] = data\n",
        "        else:\n",
        "            self.tail = (self.tail + 1) % self.k\n",
        "            self.queue[self.tail] = data\n",
        "\n",
        "    # Delete an element from the circular queue\n",
        "    def dequeue(self):\n",
        "        if (self.head == -1):\n",
        "            print(\"The circular queue is empty\\n\")\n",
        "\n",
        "        elif (self.head == self.tail):\n",
        "            temp = self.queue[self.head]\n",
        "            self.head = -1\n",
        "            self.tail = -1\n",
        "            return temp\n",
        "        else:\n",
        "            temp = self.queue[self.head]\n",
        "            self.head = (self.head + 1) % self.k\n",
        "            return temp\n",
        "\n",
        "    def printCQueue(self):\n",
        "        if(self.head == -1):\n",
        "            print(\"No element in the circular queue\")\n",
        "\n",
        "        elif (self.tail >= self.head):\n",
        "            for i in range(self.head, self.tail + 1):\n",
        "                print(self.queue[i], end=\" \")\n",
        "            print()\n",
        "        else:\n",
        "            for i in range(self.head, self.k):\n",
        "                print(self.queue[i], end=\" \")\n",
        "            for i in range(0, self.tail + 1):\n",
        "                print(self.queue[i], end=\" \")\n",
        "            print()\n"
      ]
    },
    {
      "cell_type": "markdown",
      "metadata": {
        "id": "2zf4LyQUH318"
      },
      "source": [
        "Pre-defined Priority Queue Class"
      ]
    },
    {
      "cell_type": "code",
      "execution_count": 4,
      "metadata": {
        "id": "jeDxl_FPH319"
      },
      "outputs": [],
      "source": [
        "class PriorityQueueNode:\n",
        "    def __init__(self, value, pr):\n",
        "\n",
        "        self.data = value\n",
        "        self.priority = pr\n",
        "        self.next = None"
      ]
    },
    {
      "cell_type": "code",
      "execution_count": 5,
      "metadata": {
        "id": "NqqkjkixH319"
      },
      "outputs": [],
      "source": [
        "class PriorityQueue:\n",
        "\n",
        "\tdef __init__(self):\n",
        "\n",
        "\t\tself.front = None\n",
        "\n",
        "\t# Method to check Priority Queue is Empty\n",
        "\t# or not if Empty then it will return True\n",
        "\t# Otherwise False\n",
        "\tdef isEmpty(self):\n",
        "\n",
        "\t\treturn True if self.front == None else False\n",
        "\n",
        "\t# Method to add items in Priority Queue\n",
        "\t# According to their priority value\n",
        "\tdef push(self, value, priority):\n",
        "\n",
        "\t\t# Condition check for checking Priority\n",
        "\t\t# Queue is empty or not\n",
        "\t\tif self.isEmpty() == True:\n",
        "\n",
        "\t\t\t# Creating a new node and assigning\n",
        "\t\t\t# it to class variable\n",
        "\t\t\tself.front = PriorityQueueNode(value, priority)\n",
        "\n",
        "\t\t\t# Returning 1 for successful execution\n",
        "\t\t\treturn 1\n",
        "\n",
        "\t\telse:\n",
        "\n",
        "\t\t\t# Special condition check to see that\n",
        "\t\t\t# first node priority value\n",
        "\t\t\tif self.front.priority > priority:\n",
        "\t\t\t\t# Creating a new node\n",
        "\t\t\t\tnewNode = PriorityQueueNode(value, priority)\n",
        "\t\t\t\t# Updating the new node next value\n",
        "\t\t\t\tnewNode.next = self.front\n",
        "\n",
        "\t\t\t\t# Assigning it to self.front\n",
        "\t\t\t\tself.front = newNode\n",
        "\n",
        "\t\t\t\t# Returning 1 for successful execution\n",
        "\t\t\t\treturn 1\n",
        "\n",
        "\t\t\telse:\n",
        "\n",
        "\t\t\t\t# Traversing through Queue until it\n",
        "\t\t\t\t# finds the next smaller priority node\n",
        "\t\t\t\ttemp = self.front\n",
        "\n",
        "\t\t\t\twhile temp.next:\n",
        "\t\t\t\t\t# If same priority node found then current\n",
        "\t\t\t\t\t# node will come after previous node\n",
        "\t\t\t\t\tif priority <= temp.next.priority:\n",
        "\t\t\t\t\t\tbreak\n",
        "\n",
        "\t\t\t\t\ttemp = temp.next\n",
        "\n",
        "\t\t\t\tnewNode = PriorityQueueNode(value, priority)\n",
        "\t\t\t\tnewNode.next = temp.next\n",
        "\t\t\t\ttemp.next = newNode\n",
        "\n",
        "\t\t\t\t# Returning 1 for successful execution\n",
        "\t\t\t\treturn 1\n",
        "\n",
        "\t# Method to remove high priority item\n",
        "\t# from the Priority Queue\n",
        "\tdef pop(self):\n",
        "\n",
        "\t\t# Condition check for checking\n",
        "\t\t# Priority Queue is empty or not\n",
        "\t\tif self.isEmpty() == True:\n",
        "\t\t\treturn\n",
        "\t\telse:\n",
        "\t\t\t# Removing high priority node from\n",
        "\t\t\t# Priority Queue, and updating front\n",
        "\t\t\t# with next node\n",
        "\t\t\tself.front = self.front.next\n",
        "\t\t\treturn 1\n",
        "\n",
        "\t# Method to return high priority node\n",
        "\t# value Not removing it\n",
        "\tdef peek(self):\n",
        "\t\t# Condition check for checking Priority\n",
        "\t\t# Queue is empty or not\n",
        "\t\tif self.isEmpty() == True:\n",
        "\t\t\treturn\n",
        "\t\telse:\n",
        "\t\t\treturn self.front.data\n",
        "\n",
        "\t# Method to Traverse through Priority\n",
        "\t# Queue\n",
        "\tdef traverse(self):\n",
        "\t\t# Condition check for checking Priority\n",
        "\t\t# Queue is empty or not\n",
        "\t\tif self.isEmpty() == True:\n",
        "\t\t\treturn \"Queue is Empty!\"\n",
        "\t\telse:\n",
        "\t\t\ttemp = self.front\n",
        "\t\t\twhile temp:\n",
        "\t\t\t\tprint(temp.data, end=\" \")\n",
        "\t\t\t\ttemp = temp.next\n"
      ]
    },
    {
      "cell_type": "markdown",
      "metadata": {
        "id": "3gBSw52DH31-"
      },
      "source": [
        "#### 1. Create a Queue\n",
        "\n",
        "- Each element should contain your name and your other classmates\n",
        "- There should be at least 5 elements in the queue\n",
        "- Put yourself at the end of the queue\n",
        "- Print all elements in the queue"
      ]
    },
    {
      "cell_type": "code",
      "execution_count": 6,
      "metadata": {
        "id": "NDJhWs61H31-"
      },
      "outputs": [
        {
          "name": "stdout",
          "output_type": "stream",
          "text": [
            "['neil', 'rovic', 'aldrin', 'francyne', 'brando']\n"
          ]
        },
        {
          "data": {
            "text/plain": [
              "'neil'"
            ]
          },
          "execution_count": 6,
          "metadata": {},
          "output_type": "execute_result"
        }
      ],
      "source": [
        "# put your answer here\n",
        "\n",
        "#create instance queue\n",
        "namequeue = Queue()\n",
        "\n",
        "#putting elements with enqueue\n",
        "namequeue.enqueue(\"neil\")\n",
        "namequeue.enqueue(\"rovic\")\n",
        "namequeue.enqueue(\"aldrin\")\n",
        "namequeue.enqueue(\"francyne\")\n",
        "namequeue.enqueue(\"brando\")\n",
        "\n",
        "#display or print the queue\n",
        "namequeue.display()\n",
        "\n",
        "#display or print the first element\n",
        "namequeue.peek()\n"
      ]
    },
    {
      "cell_type": "markdown",
      "metadata": {
        "id": "Mt4K9DTyH31_"
      },
      "source": [
        "#### 2. Create a Deque\n",
        "\n",
        "Given the queue below,\n",
        "\n",
        "**Queue:**\n",
        "\n",
        "| Cat | Dog | Rabbit | Bird | Hamster\n",
        "| --- | --- | --- | --- | --- |\n",
        "\n",
        "**dequeue** each element and insert them into a **Deque** in the following order below:\n",
        "\n",
        "**Deque:**\n",
        "\n",
        "| Hamster | Bird | Rabbit | Dog | Cat\n",
        "| --- | --- | --- | --- | --- |\n",
        "\n",
        "**Expected output:**\n",
        "\n",
        "['Hamster','Bird', 'Rabbit', 'Dog', 'Cat']"
      ]
    },
    {
      "cell_type": "code",
      "execution_count": 7,
      "metadata": {
        "id": "WNWg_tM9H31_"
      },
      "outputs": [
        {
          "name": "stdout",
          "output_type": "stream",
          "text": [
            "['Cat', 'Dog', 'Rabbit', 'Bird', 'Hamster']\n",
            "['Hamster', 'Bird', 'Rabbit', 'Dog', 'Cat']\n"
          ]
        }
      ],
      "source": [
        "# put your answer here\n",
        "# implementation details\n",
        "class Queue:\n",
        "    def __init__(self):\n",
        "        self.queue = []\n",
        "\n",
        "    # Add an element\n",
        "    def enqueue(self, item):\n",
        "        self.queue.append(item)\n",
        "\n",
        "    # Remove an element\n",
        "    def dequeue(self):\n",
        "        if len(self.queue) < 1:\n",
        "            return None\n",
        "        return self.queue.pop()\n",
        "    #note that 'self.queue.pop()' is added 0 it removes the first element\n",
        "    # when self.queue.pop() only, it removes the last element\n",
        "\n",
        "    # Display  the queue\n",
        "    def display(self):\n",
        "        print(self.queue)\n",
        "\n",
        "    def size(self):\n",
        "        return len(self.queue)\n",
        "    \n",
        "    def peek(self):\n",
        "        return self.queue[0]\n",
        "    def isEmpty(self):\n",
        "        return self.items == []\n",
        "    \n",
        "class Deque:\n",
        "    def __init__(self):\n",
        "        self.items = []\n",
        "    def isEmpty(self):\n",
        "        return self.items == []\n",
        "    def addRear(self, item):\n",
        "        self.items.append(item)\n",
        "    def addFront(self, item):\n",
        "        self.items.insert(0, item)\n",
        "    def removeFront(self):\n",
        "        self.items.pop(0)\n",
        "    def removeRear(self):\n",
        "        self.items.pop()\n",
        "    def size(self):\n",
        "        return len(self.items)\n",
        "    def __str__(self) -> str:\n",
        "        return str(self.items)\n",
        "    \n",
        "#new instance \n",
        "animalqueue = Queue()\n",
        "deque_result = Deque()\n",
        "\n",
        "animalqueue.enqueue(\"Cat\")\n",
        "animalqueue.enqueue(\"Dog\")\n",
        "animalqueue.enqueue(\"Rabbit\")\n",
        "animalqueue.enqueue(\"Bird\")\n",
        "animalqueue.enqueue(\"Hamster\")\n",
        "\n",
        "animalqueue.display()\n",
        "#['Cat', 'Dog', 'Rabbit', 'Bird', 'Hamster']\n",
        "\n",
        "# Add the animal dequeued from the front of the animalqueue to the rear of deque_result\n",
        "deque_result.addRear(animalqueue.dequeue())  # Removes \"Cat\" from animalqueue and adds it to the rear of deque_result\n",
        "deque_result.addRear(animalqueue.dequeue())\n",
        "deque_result.addRear(animalqueue.dequeue())\n",
        "deque_result.addRear(animalqueue.dequeue())\n",
        "deque_result.addRear(animalqueue.dequeue())\n",
        "\n",
        "'''\n",
        "#or second method looping using while loop\n",
        "# Use a for loop to dequeue and add animals to the Deque in the desired order\n",
        "while not animalqueue.isEmpty():\n",
        "    deque_result.addRear(animalqueue.dequeue())\n",
        "'''\n",
        "\n",
        "print(deque_result)"
      ]
    },
    {
      "cell_type": "markdown",
      "metadata": {},
      "source": []
    },
    {
      "cell_type": "markdown",
      "metadata": {
        "id": "aq19qazZH32A"
      },
      "source": [
        "#### 3. Create a Circular Queue\n",
        "\n",
        "Given the queue below,\n",
        "\n",
        "**Queue:**\n",
        "\n",
        "| I | II | III | IV | V | VI | VII | VIII | IX | X | XI | XII\n",
        "| --- | --- | --- | --- | --- | --- | --- | --- | --- | --- | --- | --- |\n",
        "\n",
        "**dequeue** each element and insert them into a **Circular Queue** in the following order below:\n",
        "\n",
        "**Circular Queue:**\n",
        "\n",
        "<img src=\"clock.jpg\"/>\n",
        "\n",
        "**Expected output:**\n",
        "\n",
        "I II III IV V VI VII VIII IX X XI XII"
      ]
    },
    {
      "cell_type": "code",
      "execution_count": 8,
      "metadata": {
        "id": "FI0VQ8ozH32A"
      },
      "outputs": [],
      "source": [
        "# put your answer here\n",
        "#implementation\n",
        "\n",
        "class CircularQueue():\n",
        "    def __init__(self, k):\n",
        "        self.k = k\n",
        "        self.queue = [None] * k\n",
        "        self.head = self.tail = -1\n",
        "    \n",
        "    #inserting an elemend to the circular queue\n",
        "    def enqueue(self, data):\n",
        "        if ((self.tail + 1) % self.k == self.head):\n",
        "            print(\"The circular queue is FULL \\n\")\n",
        "        elif (self.head == -1):\n",
        "            self.head = 0\n",
        "            self.tail = 0\n",
        "            self.queue[self.tail] = data\n",
        "        else:\n",
        "            self.tail = (self.tail + 1) % self.k\n",
        "            self.queue[self.tail] = data\n",
        "    \n",
        "    def dequeue(self):\n",
        "        if (self.head == -1):\n",
        "            print(\"Circular Queue is empty \\n\")\n",
        "        elif (self.head == self.tail):\n",
        "            temp = self.queue[self.head]\n",
        "            self.head = -1\n",
        "            self.tail = -1\n",
        "            return temp\n",
        "        else:\n",
        "            temp = self.queue[self.head]\n",
        "            self.head = (self.head + 1) % self.k\n",
        "            return temp\n",
        "    def printCQueue(self):\n",
        "        if (self.head == -1):\n",
        "            print(\"No element in the queue\")\n",
        "        elif (self.tail >= self.head):\n",
        "            for i in range (self.head, self.tail + 1):\n",
        "                print(self.queue[i], end= \" \")\n",
        "            print()\n",
        "        else:\n",
        "            for i in range (self.head, self.k):\n",
        "                print(self.queue[i], end=\" \")\n",
        "            for i in range (0, self.tail + 1):\n",
        "                print(self.queue[i], end= \" \")\n",
        "            print()\n",
        "\n"
      ]
    },
    {
      "cell_type": "code",
      "execution_count": 9,
      "metadata": {},
      "outputs": [
        {
          "name": "stdout",
          "output_type": "stream",
          "text": [
            "I II III IV V VI VII VIII IX X XI XII \n",
            "I II III IV V VI VII VIII IX X XI XII \n"
          ]
        }
      ],
      "source": [
        "myCircularQueue = CircularQueue(12)\n",
        "\n",
        "myCircularQueue.enqueue('I')\n",
        "myCircularQueue.enqueue('II')\n",
        "myCircularQueue.enqueue('III')\n",
        "myCircularQueue.enqueue('IV')\n",
        "myCircularQueue.enqueue('V')\n",
        "myCircularQueue.enqueue('VI')\n",
        "myCircularQueue.enqueue('VII')\n",
        "myCircularQueue.enqueue('VIII')\n",
        "myCircularQueue.enqueue('IX')\n",
        "myCircularQueue.enqueue('X')\n",
        "myCircularQueue.enqueue('XI')\n",
        "myCircularQueue.enqueue('XII')\n",
        "\n",
        "myCircularQueue.printCQueue()\n",
        "#I II III IV V VI VII VIII IX X XI XII result\n",
        "\n",
        "\n",
        "myCircularDeque = CircularQueue(12)\n",
        "for _ in range(12):\n",
        "    data = myCircularQueue.dequeue()\n",
        "    if data is not None:\n",
        "        myCircularDeque.enqueue(data)\n",
        "myCircularDeque.printCQueue()\n",
        "#I II III IV V VI VII VIII IX X XI XII "
      ]
    },
    {
      "cell_type": "markdown",
      "metadata": {
        "id": "S_hegiH9H32B"
      },
      "source": [
        "#### 4. Create a Priority Queue\n",
        "\n",
        "Given the queue below,\n",
        "\n",
        "**Queue:**\n",
        "\n",
        "| Cat | Dog | Rabbit | Bird | Hamster\n",
        "| --- | --- | --- | --- | --- |\n",
        "\n",
        "\n",
        "**dequeue** each element and insert them into a **Priority Queue** with the following priority values\n",
        "\n",
        "**Priority Queue:**\n",
        "\n",
        "| Element | Priority |\n",
        "| --- | --- |\n",
        "| Hamster |  0 |\n",
        "| Bird |  1 |\n",
        "| Rabbit |  2 |\n",
        "| Dog |  3 |\n",
        "| Cat |  4 |\n",
        "\n",
        "**Expected output:**\n",
        "\n",
        "Hamster Bird Rabbit Dog Cat"
      ]
    },
    {
      "cell_type": "code",
      "execution_count": 10,
      "metadata": {
        "id": "shAslZZjH32C"
      },
      "outputs": [],
      "source": [
        "# put your answer here\n",
        "\n",
        "#implementation\n",
        "class PriorityQueueNode:\n",
        "    def __init__(self, value, pr):\n",
        "        self.data = value\n",
        "        self.priority = pr\n",
        "        self.next = None"
      ]
    },
    {
      "cell_type": "code",
      "execution_count": 20,
      "metadata": {},
      "outputs": [],
      "source": [
        "class PriorityQueue:\n",
        "    def __init__(self):\n",
        "        self.front = None\n",
        "\n",
        "    def isEmpty(self):\n",
        "        return True if self.front == None else False\n",
        "    def push(self, value, priority):\n",
        "        if self.isEmpty() == True:\n",
        "            self.front = PriorityQueueNode(value, priority)\n",
        "            return 1\n",
        "        else:\n",
        "            if self.front.priority > priority:\n",
        "                newNode = PriorityQueueNode(value, priority)\n",
        "                newNode.next = self.front\n",
        "\n",
        "                self.front = newNode\n",
        "                return 1\n",
        "            else:\n",
        "                temp = self.front\n",
        "                while temp.next:\n",
        "                    if priority <= temp.next.priority:\n",
        "                        break\n",
        "                    temp = temp.next\n",
        "                newNode = PriorityQueueNode(value, priority)\n",
        "                newNode.next = temp.next\n",
        "                temp.next = newNode\n",
        "                return 1\n",
        "    def pop(self):\n",
        "        if self.isEmpty() == True:\n",
        "            return\n",
        "        else:\n",
        "            self.front = self.front.next\n",
        "            return 1\n",
        "    def peek(self):\n",
        "        if self.isEmpty() == True:\n",
        "            return\n",
        "        else:\n",
        "            return self.front.data\n",
        "    def traverse(self):\n",
        "        if self.isEmpty() == True:\n",
        "            return \"Queue is Empty\"\n",
        "        else:\n",
        "            temp = self.front\n",
        "            while temp:\n",
        "                print (temp.data, end= \" \")\n",
        "                temp =  temp.next"
      ]
    },
    {
      "cell_type": "code",
      "execution_count": 33,
      "metadata": {},
      "outputs": [
        {
          "name": "stdout",
          "output_type": "stream",
          "text": [
            "Pushed element:  Cat  priority value:  0\n",
            "Pushed element:  Dog  priority value:  -1\n",
            "Pushed element:  Rabbit  priority value:  -2\n",
            "Pushed element:  Bird  priority value:  -3\n",
            "Pushed element:  Hamster  priority value:  -4\n",
            "Hamster Bird Rabbit Dog Cat "
          ]
        }
      ],
      "source": [
        "queueAnimals = [\"Cat\", \"Dog\", \"Rabbit\", \"Bird\", \"Hamster\"]\n",
        "priorityQueueAnimals = PriorityQueue()\n",
        "\n",
        "priority = 0\n",
        "while queueAnimals:\n",
        "    element = queueAnimals.pop(0)\n",
        "    priorityQueueAnimals.push(element, priority)\n",
        "    print(\"Pushed element: \", element , \" priority value: \", priority)\n",
        "    priority += -1\n",
        "\n",
        "priorityQueueAnimals.traverse()"
      ]
    },
    {
      "cell_type": "markdown",
      "metadata": {
        "id": "BUCV9mH5H32C"
      },
      "source": [
        "#### 5. Create a Sorted Circular Queue\n",
        "\n",
        "Given the queue below,\n",
        "\n",
        "**Queue:**\n",
        "\n",
        "| 1 | 5 | 3 | 2 | 7 | 8 | 10 | 11 | 6 | 4 | 12 | 9\n",
        "| --- | --- | --- | --- | --- | --- | --- | --- | --- | --- | --- | --- |\n",
        "\n",
        "\n",
        "**dequeue** each element and insert them into a **Circular Queue** in the following order below:\n",
        "\n",
        "**Circular Queue:**\n",
        "\n",
        "<img src=\"clock1.png\"/>\n",
        "\n",
        "**Expected output:**\n",
        "\n",
        "1 2 3 4 5 6 7 8 9 10 11 12"
      ]
    },
    {
      "cell_type": "code",
      "execution_count": 43,
      "metadata": {
        "id": "rUuLGwQ7H32C"
      },
      "outputs": [],
      "source": [
        "class CircularQueue:\n",
        "    def __init__(self, size):\n",
        "        self.size = size\n",
        "        self.queue = [None] * size\n",
        "        self.front = self.rear = -1\n",
        "\n",
        "    def is_empty(self):\n",
        "        return self.front == -1\n",
        "\n",
        "    def is_full(self):\n",
        "        return (self.rear + 1) % self.size == self.front\n",
        "\n",
        "    def enqueue(self, item):\n",
        "        if not self.is_full():\n",
        "            if self.is_empty():\n",
        "                self.front = self.rear = 0\n",
        "            else:\n",
        "                self.rear = (self.rear + 1) % self.size\n",
        "            self.queue[self.rear] = item\n",
        "        else:\n",
        "            print(\"Queue is full!\")\n",
        "\n",
        "    def dequeue(self):\n",
        "        if not self.is_empty():\n",
        "            item = self.queue[self.front]\n",
        "            if self.front == self.rear:\n",
        "                self.front = self.rear = -1\n",
        "            else:\n",
        "                self.front = (self.front + 1) % self.size\n",
        "            return item\n",
        "        else:\n",
        "            print(\"Queue is empty!\")\n",
        "\n",
        "    def display(self):\n",
        "        if self.is_empty():\n",
        "            print(\"Queue is empty\")\n",
        "        else:\n",
        "            i = self.front\n",
        "            while True:\n",
        "                print(self.queue[i], end=\" \")\n",
        "                if i == self.rear:\n",
        "                    break\n",
        "                i = (i + 1) % self.size\n"
      ]
    },
    {
      "cell_type": "code",
      "execution_count": 44,
      "metadata": {},
      "outputs": [
        {
          "name": "stdout",
          "output_type": "stream",
          "text": [
            "1 2 3 4 5 6 7 8 9 10 11 12 "
          ]
        }
      ],
      "source": [
        "circularQueue5 = [1,5,3,2,7,8,10,11,6,4,12,9]\n",
        "\n",
        "#create a circular queue\n",
        "size = len(circularQueue5)\n",
        "sorted_circularQueue5 = CircularQueue(size)\n",
        "\n",
        "#deque and insert elements into circular queue while maintaining the sort\n",
        "for item in sorted(circularQueue5):\n",
        "    sorted_circularQueue5.enqueue(item)\n",
        "    \n",
        "sorted_circularQueue5.display()"
      ]
    }
  ],
  "metadata": {
    "colab": {
      "include_colab_link": true,
      "provenance": []
    },
    "kernelspec": {
      "display_name": "Python 3",
      "language": "python",
      "name": "python3"
    },
    "language_info": {
      "codemirror_mode": {
        "name": "ipython",
        "version": 3
      },
      "file_extension": ".py",
      "mimetype": "text/x-python",
      "name": "python",
      "nbconvert_exporter": "python",
      "pygments_lexer": "ipython3",
      "version": "3.10.0"
    },
    "orig_nbformat": 4
  },
  "nbformat": 4,
  "nbformat_minor": 0
}

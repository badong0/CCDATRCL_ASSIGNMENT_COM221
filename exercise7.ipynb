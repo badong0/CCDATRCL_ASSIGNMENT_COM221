{
  "cells": [
    {
      "cell_type": "markdown",
      "metadata": {
        "colab_type": "text",
        "id": "view-in-github"
      },
      "source": [
        "<a href=\"https://colab.research.google.com/github/robitussin/CCDATRCL_EXERCISES/blob/main/exercise7.ipynb\" target=\"_parent\"><img src=\"https://colab.research.google.com/assets/colab-badge.svg\" alt=\"Open In Colab\"/></a>"
      ]
    },
    {
      "cell_type": "markdown",
      "metadata": {
        "id": "e3Ja3uozAJlw"
      },
      "source": [
        "# Exercise 7"
      ]
    },
    {
      "cell_type": "code",
      "execution_count": 1,
      "metadata": {
        "id": "IW6uTwU8AJly"
      },
      "outputs": [],
      "source": [
        "class Node:\n",
        "    def __init__(self, item):\n",
        "        self.left = None\n",
        "        self.right = None\n",
        "        self.val = item"
      ]
    },
    {
      "cell_type": "code",
      "execution_count": 2,
      "metadata": {
        "id": "uxVFuimIAJlz"
      },
      "outputs": [],
      "source": [
        "def evaluateExpressionTree(root):\n",
        "\n",
        "    # empty tree\n",
        "    if root is None:\n",
        "        return 0\n",
        "\n",
        "    # leaf node\n",
        "    if root.left is None and root.right is None:\n",
        "        return int(root.val)\n",
        "\n",
        "    # evaluate left tree\n",
        "    left_sum = evaluateExpressionTree(root.left)\n",
        "\n",
        "    # evaluate right tree\n",
        "    right_sum = evaluateExpressionTree(root.right)\n",
        "\n",
        "    # check which operation to apply\n",
        "    if root.val == '+':\n",
        "        return left_sum + right_sum\n",
        "\n",
        "    elif root.val == '-':\n",
        "        return left_sum - right_sum\n",
        "\n",
        "    elif root.val == '*':\n",
        "        return left_sum * right_sum\n",
        "\n",
        "    else:\n",
        "        return left_sum / right_sum\n",
        "        #if left_sum // right_sum, it is not rounding up and deleting the decimals,\n",
        "        # ifleft_sum / right_sum, then adding the decimals"
      ]
    },
    {
      "cell_type": "code",
      "execution_count": 3,
      "metadata": {
        "id": "-xWZXA-mAJl0"
      },
      "outputs": [],
      "source": [
        "def inorder(root):\n",
        "\n",
        "    if root:\n",
        "        # Traverse left\n",
        "        inorder(root.left)\n",
        "        # Traverse root\n",
        "        print(str(root.val) + \" -> \", end='')\n",
        "        # Traverse right\n",
        "        inorder(root.right)"
      ]
    },
    {
      "cell_type": "markdown",
      "metadata": {
        "id": "CVtqxh5DAJl1"
      },
      "source": [
        "#### 1. Construct a binary expression tree\n",
        "\n",
        "\n",
        "- Use the evaluateExpressionTree method to get the result of the expression\n",
        "- Use the inorder method to traverse the tree  \n",
        "\n",
        "$$ (8 + 4) * (7 - 9) $$"
      ]
    },
    {
      "cell_type": "code",
      "execution_count": 4,
      "metadata": {
        "id": "CxpP0zcVAJl1"
      },
      "outputs": [
        {
          "name": "stdout",
          "output_type": "stream",
          "text": [
            "Evaluation Expression Tree:  -24\n",
            "8 -> + -> 4 -> * -> 7 -> - -> 9 -> "
          ]
        }
      ],
      "source": [
        "# put your answer here\n",
        "root = Node(\"*\") \n",
        "node1 = Node(\"+\")\n",
        "node2 = Node(\"-\")\n",
        "root.left=node1\n",
        "root.right=node2\n",
        "\n",
        "node3 = Node(\"8\")\n",
        "node4 = Node(\"4\")\n",
        "node1.left = node3\n",
        "node1.right=node4\n",
        "\n",
        "node5 = Node(\"7\")\n",
        "node6 = Node(\"9\")\n",
        "\n",
        "node2.left=node5\n",
        "node2.right=node6\n",
        "\n",
        "print(\"Evaluation Expression Tree: \", evaluateExpressionTree(root))\n",
        "inorder(root)\n"
      ]
    },
    {
      "cell_type": "markdown",
      "metadata": {
        "id": "jc5KHLk6AJl2"
      },
      "source": [
        "#### 2. Construct a binary expression tree\n",
        "\n",
        "- Use the evaluateExpressionTree method to get the result of the expression\n",
        "- Use the inorder method to traverse the tree  \n",
        "\n",
        "$$ 5 / 8 + 3 - 6 * 1 $$"
      ]
    },
    {
      "cell_type": "code",
      "execution_count": 5,
      "metadata": {
        "id": "XORzqkC3AJl2"
      },
      "outputs": [
        {
          "name": "stdout",
          "output_type": "stream",
          "text": [
            "Evaluation Expression Tree:  -24\n",
            "5 -> / -> 8 -> + -> 3 -> - -> 6 -> * -> 1 -> "
          ]
        }
      ],
      "source": [
        "# put your answer here\n",
        "\n",
        "\n",
        "node21 = Node(\"/\")\n",
        "node22 = Node(\"5\")\n",
        "node23 = Node(\"8\")\n",
        "node21.left=node22\n",
        "node21.right=node23\n",
        "\n",
        "\n",
        "node24=Node(\"+\")\n",
        "node25=Node(\"3\")\n",
        "node24.left=node21\n",
        "node24.right=node25\n",
        "\n",
        "node26= Node(\"-\")\n",
        "node27=Node(\"6\")\n",
        "node26.left=node24\n",
        "node26.right=node27\n",
        "\n",
        "\n",
        "root2 =Node(\"*\")\n",
        "node29=Node(\"1\")\n",
        "root2.left=node26\n",
        "root2.right=node29\n",
        "\n",
        "print(\"Evaluation Expression Tree: \", evaluateExpressionTree(root))\n",
        "inorder(root2)\n"
      ]
    },
    {
      "cell_type": "markdown",
      "metadata": {
        "id": "tu3n5ZdWAJl2"
      },
      "source": [
        "#### 3. Construct a binary expression tree\n",
        "\n",
        "- Use the evaluateExpressionTree method to get the result of the expression\n",
        "- Use the inorder method to traverse the tree  \n",
        "\n",
        "$$ ((2 + 5) / 3)- (3 + 8) $$"
      ]
    },
    {
      "cell_type": "code",
      "execution_count": 6,
      "metadata": {
        "id": "5GvZBxgtAJl3"
      },
      "outputs": [
        {
          "name": "stdout",
          "output_type": "stream",
          "text": [
            "Evaluation Expression Tree:  -24\n",
            "2 -> + -> 5 -> / -> 3 -> - -> 3 -> + -> 8 -> "
          ]
        }
      ],
      "source": [
        "# put your answer here\n",
        "node31=Node(\"+\")\n",
        "node32=Node(\"2\")\n",
        "node33=Node(\"5\")\n",
        "node31.left=node32\n",
        "node31.right=node33\n",
        "\n",
        "node34=Node(\"/\")\n",
        "node35=Node(\"3\")\n",
        "node34.left=node31\n",
        "node34.right=node35\n",
        "\n",
        "node36=Node(\"+\")\n",
        "node37=Node(\"3\")\n",
        "node38=Node(\"8\")\n",
        "node36.left=node37\n",
        "node36.right=node38\n",
        "\n",
        "root3=Node(\"-\")\n",
        "root3.left=node34\n",
        "root3.right=node36\n",
        "\n",
        "print(\"Evaluation Expression Tree: \", evaluateExpressionTree(root))\n",
        "inorder(root3)\n"
      ]
    }
  ],
  "metadata": {
    "colab": {
      "include_colab_link": true,
      "provenance": []
    },
    "kernelspec": {
      "display_name": "Python 3",
      "language": "python",
      "name": "python3"
    },
    "language_info": {
      "codemirror_mode": {
        "name": "ipython",
        "version": 3
      },
      "file_extension": ".py",
      "mimetype": "text/x-python",
      "name": "python",
      "nbconvert_exporter": "python",
      "pygments_lexer": "ipython3",
      "version": "3.10.0"
    },
    "orig_nbformat": 4
  },
  "nbformat": 4,
  "nbformat_minor": 0
}

{
  "cells": [
    {
      "cell_type": "markdown",
      "metadata": {
        "colab_type": "text",
        "id": "view-in-github"
      },
      "source": [
        "<a href=\"https://colab.research.google.com/github/robitussin/CCDATRCL_EXERCISES/blob/main/exercise5.ipynb\" target=\"_parent\"><img src=\"https://colab.research.google.com/assets/colab-badge.svg\" alt=\"Open In Colab\"/></a>"
      ]
    },
    {
      "cell_type": "markdown",
      "metadata": {
        "id": "DN15rkKvhGBr"
      },
      "source": [
        "# Exercise 5"
      ]
    },
    {
      "cell_type": "markdown",
      "metadata": {
        "id": "oEys_5t7hGBt"
      },
      "source": [
        "#### 1. Create a dictionary of your 10 favorite songs."
      ]
    },
    {
      "cell_type": "markdown",
      "metadata": {
        "id": "T1iOtzXshGBu"
      },
      "source": [
        "Example:\n",
        "\n",
        "|KEY|VALUE|\n",
        "|---|---|\n",
        "|001|My Love|\n",
        "|002|Like a rose|"
      ]
    },
    {
      "cell_type": "code",
      "execution_count": 1,
      "metadata": {
        "id": "dprOhMRchGBu"
      },
      "outputs": [
        {
          "name": "stdout",
          "output_type": "stream",
          "text": [
            "{'001': 'My Love', '002': 'Love me tender', '003': 'Tigidong', '004': 'All this time', '005': 'Take my breath away', '006': 'Bakit labis kitang mahal', '007': 'Pinaikot-ikot', '008': 'Loving you near me', '009': 'My love will see you through', '010': 'Let me go'}\n"
          ]
        }
      ],
      "source": [
        "# put your answer here\n",
        "myDictionary = {\n",
        "    \"001\":\"My Love\",\n",
        "    \"002\":\"Love me tender\",\n",
        "    \"003\":\"Tigidong\",\n",
        "    \"004\":\"All this time\",\n",
        "    \"005\":\"Take my breath away\",\n",
        "    \"006\":\"Bakit labis kitang mahal\",\n",
        "    \"007\":\"Pinaikot-ikot\",\n",
        "    \"008\":\"Loving you near me\",\n",
        "    \"009\":\"My love will see you through\",\n",
        "    \"010\":\"Let me go\",\n",
        "}\n",
        "print(myDictionary)\n",
        "\n"
      ]
    },
    {
      "cell_type": "markdown",
      "metadata": {
        "id": "g1FstA7XhGBv"
      },
      "source": [
        "#### 2. Loop through the dictionary by its **key** and **value**"
      ]
    },
    {
      "cell_type": "code",
      "execution_count": 89,
      "metadata": {},
      "outputs": [
        {
          "name": "stdout",
          "output_type": "stream",
          "text": [
            "Key     Value\n",
            "001  :  My Love\n",
            "002  :  Love me tender\n",
            "003  :  Tigidong\n",
            "004  :  All this time\n",
            "005  :  Take my breath away\n",
            "006  :  Bakit labis kitang mahal\n",
            "007  :  Pinaikot-ikot\n",
            "008  :  Loving you near me\n",
            "009  :  My love will see you through\n",
            "010  :  Let me go\n"
          ]
        }
      ],
      "source": [
        "# put your answer here\n",
        "print(\"Key   \", \" Value\")\n",
        "for i,j in myDictionary.items():\n",
        "    print(i, \" : \", j)"
      ]
    },
    {
      "cell_type": "markdown",
      "metadata": {
        "id": "h5N_w8-yhGBw"
      },
      "source": [
        "#### 3. Add one additional song"
      ]
    },
    {
      "cell_type": "code",
      "execution_count": 95,
      "metadata": {
        "id": "oUXMAJWEhGBw"
      },
      "outputs": [
        {
          "data": {
            "text/plain": [
              "{'001': 'My Love',\n",
              " '002': 'Love me tender',\n",
              " '003': 'Tigidong',\n",
              " '004': 'All this time',\n",
              " '005': 'Take my breath away',\n",
              " '006': 'Bakit labis kitang mahal',\n",
              " '007': 'Pinaikot-ikot',\n",
              " '008': 'Loving you near me',\n",
              " '009': 'My love will see you through',\n",
              " '010': 'Let me go',\n",
              " '011': 'Magbalik'}"
            ]
          },
          "execution_count": 95,
          "metadata": {},
          "output_type": "execute_result"
        }
      ],
      "source": [
        "# put your answer here\n",
        "\n",
        "myDictionary[\"011\"] = \"Magbalik\"\n",
        "myDictionary"
      ]
    },
    {
      "cell_type": "markdown",
      "metadata": {
        "id": "7OlW5r9dhGBx"
      },
      "source": [
        "#### 4. Remove one song"
      ]
    },
    {
      "cell_type": "code",
      "execution_count": 100,
      "metadata": {
        "id": "g39mqwpDhGBx"
      },
      "outputs": [
        {
          "data": {
            "text/plain": [
              "{'001': 'My Love',\n",
              " '002': 'Love me tender',\n",
              " '003': 'Tigidong',\n",
              " '005': 'Take my breath away',\n",
              " '006': 'Bakit labis kitang mahal',\n",
              " '007': 'Pinaikot-ikot',\n",
              " '008': 'Loving you near me',\n",
              " '009': 'My love will see you through',\n",
              " '010': 'Let me go',\n",
              " '011': 'Magbalik'}"
            ]
          },
          "execution_count": 100,
          "metadata": {},
          "output_type": "execute_result"
        }
      ],
      "source": [
        "# put your answer here\n",
        "myDictionary.pop(\"004\")\n",
        "myDictionary"
      ]
    },
    {
      "cell_type": "markdown",
      "metadata": {
        "id": "gZ8Sr1bzhGBy"
      },
      "source": [
        "#### 5. Create a nested dictionary of your 10 favorite songs with 5 genres. Display all of the items of the nested dictionary\n",
        "\n",
        "- Each nested dictionary's key should be the genre of the song\n",
        "- Put each song in their respective genre"
      ]
    },
    {
      "cell_type": "markdown",
      "metadata": {
        "id": "US1ZaaSJhGBy"
      },
      "source": [
        "Example:\n",
        "\n",
        "\n",
        "|KEY|VALUE|\n",
        "|---|---|\n",
        "|Pop|{001, Baby}|\n",
        "|Rock|{001, Enter Sandman}|"
      ]
    },
    {
      "cell_type": "code",
      "execution_count": 115,
      "metadata": {
        "id": "z577KULkhGBz"
      },
      "outputs": [
        {
          "data": {
            "text/plain": [
              "{'OPM': {'003': 'Tigidong',\n",
              "  '006': 'Bakit labis kitang mahal',\n",
              "  '007': 'Pinaikot-ikot'},\n",
              " 'English': {'001': 'My Love',\n",
              "  '002': 'Love me tender',\n",
              "  '004': 'All this time',\n",
              "  '005': 'Take my breath away',\n",
              "  '008': 'Loving you near me',\n",
              "  '009': 'My love will see you through',\n",
              "  '010': 'Let me go'}}"
            ]
          },
          "execution_count": 115,
          "metadata": {},
          "output_type": "execute_result"
        }
      ],
      "source": [
        "# put your answer here\n",
        "genreDictionary = {\n",
        "    \"OPM\" : {\n",
        "    \"003\":\"Tigidong\",\n",
        "    \"006\":\"Bakit labis kitang mahal\",\n",
        "    \"007\":\"Pinaikot-ikot\"\n",
        "    },\n",
        "    \"English\" : {\n",
        "    \"001\":\"My Love\",\n",
        "    \"002\":\"Love me tender\",\n",
        "    \"004\":\"All this time\",\n",
        "    \"005\":\"Take my breath away\",\n",
        "    \"008\":\"Loving you near me\",\n",
        "    \"009\":\"My love will see you through\",\n",
        "    \"010\":\"Let me go\"\n",
        "    }\n",
        "}\n",
        "genreDictionary"
      ]
    },
    {
      "cell_type": "markdown",
      "metadata": {
        "id": "ZMgltzOkhGBz"
      },
      "source": [
        "#### 6. Print the first song of the first genre"
      ]
    },
    {
      "cell_type": "code",
      "execution_count": 128,
      "metadata": {
        "id": "nmXUGoNWhGBz"
      },
      "outputs": [
        {
          "name": "stdout",
          "output_type": "stream",
          "text": [
            "Tigidong\n"
          ]
        }
      ],
      "source": [
        "# put your answer here\n",
        "print(genreDictionary[\"OPM\"][\"003\"])"
      ]
    },
    {
      "cell_type": "markdown",
      "metadata": {
        "id": "dEcgwp_ihGB0"
      },
      "source": [
        "#### 7. Print the first song of the last genre"
      ]
    },
    {
      "cell_type": "code",
      "execution_count": 129,
      "metadata": {
        "id": "ITbuWq2UhGB0"
      },
      "outputs": [
        {
          "name": "stdout",
          "output_type": "stream",
          "text": [
            "Love me tender\n"
          ]
        }
      ],
      "source": [
        "# put your answer here\n",
        "print(genreDictionary[\"English\"][\"002\"])"
      ]
    }
  ],
  "metadata": {
    "colab": {
      "include_colab_link": true,
      "provenance": []
    },
    "kernelspec": {
      "display_name": "Python 3",
      "language": "python",
      "name": "python3"
    },
    "language_info": {
      "codemirror_mode": {
        "name": "ipython",
        "version": 3
      },
      "file_extension": ".py",
      "mimetype": "text/x-python",
      "name": "python",
      "nbconvert_exporter": "python",
      "pygments_lexer": "ipython3",
      "version": "3.10.0"
    },
    "orig_nbformat": 4
  },
  "nbformat": 4,
  "nbformat_minor": 0
}
